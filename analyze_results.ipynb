{
 "cells": [
  {
   "cell_type": "markdown",
   "metadata": {},
   "source": [
    "<h1> For conversion of .out files from batch transform to a csv file"
   ]
  },
  {
   "cell_type": "code",
   "execution_count": 3,
   "metadata": {},
   "outputs": [
    {
     "name": "stdout",
     "output_type": "stream",
     "text": [
      "\u001b[34mimport\u001b[39;49;00m \u001b[04m\u001b[36mos\u001b[39;49;00m \r\n",
      "\u001b[34mimport\u001b[39;49;00m \u001b[04m\u001b[36mcsv\u001b[39;49;00m\r\n",
      "\u001b[34mimport\u001b[39;49;00m \u001b[04m\u001b[36mre\u001b[39;49;00m \r\n",
      "\u001b[34mimport\u001b[39;49;00m \u001b[04m\u001b[36mnumpy\u001b[39;49;00m \u001b[34mas\u001b[39;49;00m \u001b[04m\u001b[36mnp\u001b[39;49;00m\r\n",
      "\r\n",
      "\u001b[34mdef\u001b[39;49;00m \u001b[32mgive_prediction_label\u001b[39;49;00m(result_string):\r\n",
      "    \u001b[37m#x = re.match(\"[(.*)]\", result_string)\u001b[39;49;00m\r\n",
      "    x = result_string[result_string.find(\u001b[33m'\u001b[39;49;00m\u001b[33m[\u001b[39;49;00m\u001b[33m'\u001b[39;49;00m)+\u001b[34m1\u001b[39;49;00m : result_string.find(\u001b[33m'\u001b[39;49;00m\u001b[33m]\u001b[39;49;00m\u001b[33m'\u001b[39;49;00m)].split(\u001b[33m'\u001b[39;49;00m\u001b[33m,\u001b[39;49;00m\u001b[33m'\u001b[39;49;00m)\r\n",
      "    x_float = [ \u001b[36mfloat\u001b[39;49;00m(xi) \u001b[34mfor\u001b[39;49;00m xi \u001b[35min\u001b[39;49;00m x ]\r\n",
      "    ind = x_float.index(\u001b[36mmax\u001b[39;49;00m(x_float))        \r\n",
      "    \r\n",
      "    \u001b[34mreturn\u001b[39;49;00m ind \r\n",
      "\r\n",
      "\r\n",
      "\r\n",
      "\u001b[34mdef\u001b[39;49;00m \u001b[32mmake_results_csv\u001b[39;49;00m( results_directory , csv_path , csv_file_name  , eval_image_path ):\r\n",
      "    \u001b[34mwith\u001b[39;49;00m \u001b[36mopen\u001b[39;49;00m(os.path.join(csv_path , csv_file_name), mode=\u001b[33m'\u001b[39;49;00m\u001b[33mw\u001b[39;49;00m\u001b[33m'\u001b[39;49;00m) \u001b[34mas\u001b[39;49;00m \u001b[36mfile\u001b[39;49;00m:\r\n",
      "        writer = csv.writer(\u001b[36mfile\u001b[39;49;00m, delimiter=\u001b[33m'\u001b[39;49;00m\u001b[33m,\u001b[39;49;00m\u001b[33m'\u001b[39;49;00m, quotechar=\u001b[33m'\u001b[39;49;00m\u001b[33m\"\u001b[39;49;00m\u001b[33m'\u001b[39;49;00m, quoting=csv.QUOTE_MINIMAL)    \r\n",
      "        writer.writerow([\u001b[33m'\u001b[39;49;00m\u001b[33mImage_path\u001b[39;49;00m\u001b[33m'\u001b[39;49;00m, \u001b[33m'\u001b[39;49;00m\u001b[33mground_truth_label\u001b[39;49;00m\u001b[33m'\u001b[39;49;00m, \u001b[33m'\u001b[39;49;00m\u001b[33mPredicted\u001b[39;49;00m\u001b[33m'\u001b[39;49;00m])\r\n",
      "        i = \u001b[34m0\u001b[39;49;00m\r\n",
      "        sorted_list = \u001b[36msorted\u001b[39;49;00m(os.listdir(results_directory))\r\n",
      "        \u001b[34mfor\u001b[39;49;00m single_class \u001b[35min\u001b[39;49;00m sorted_list:\r\n",
      "            list_of_files = os.listdir(os.path.join( results_directory , single_class ))\r\n",
      "            \u001b[34mfor\u001b[39;49;00m img_result \u001b[35min\u001b[39;49;00m list_of_files:\r\n",
      "                result_file = \u001b[36mopen\u001b[39;49;00m(  os.path.join( results_directory , single_class , img_result )  , \u001b[33m'\u001b[39;49;00m\u001b[33mr\u001b[39;49;00m\u001b[33m'\u001b[39;49;00m)\r\n",
      "                result_string = result_file.read()\r\n",
      "                prediction_val = give_prediction_label(result_string)\r\n",
      "                \u001b[37m#print(result_string.split(','))\u001b[39;49;00m\r\n",
      "                label = \u001b[36mstr\u001b[39;49;00m(i)\r\n",
      "                img_path = os.path.join( eval_image_path , single_class ,img_result[:-\u001b[34m4\u001b[39;49;00m] )\r\n",
      "                writer.writerow([img_path, label , prediction_val  ])            \r\n",
      "                result_file.close()\r\n",
      "            \u001b[37m#print(i)\u001b[39;49;00m\r\n",
      "            i += \u001b[34m1\u001b[39;49;00m\r\n",
      "\u001b[37m#make_results_csv('analyze/analyze' , 'dump' , 'results.csv' , 'nsfw_dataset_test' )\u001b[39;49;00m\r\n"
     ]
    }
   ],
   "source": [
    "#make_results_csv( 'batch_transform_results' , '' , 'results.csv'  , 'nsfw_dataset_test' )\n",
    "!pygmentize useful_scripts/useful_scripts/csv_maker.py"
   ]
  },
  {
   "cell_type": "markdown",
   "metadata": {},
   "source": [
    "<h1>This notebook is used for first convert the results of batch transform to a csv file and then analyzing it. "
   ]
  },
  {
   "cell_type": "code",
   "execution_count": 5,
   "metadata": {},
   "outputs": [],
   "source": [
    "import pandas as pd\n",
    "df = pd.read_csv('results.csv')\n"
   ]
  },
  {
   "cell_type": "code",
   "execution_count": 6,
   "metadata": {},
   "outputs": [
    {
     "data": {
      "text/html": [
       "<div>\n",
       "<style scoped>\n",
       "    .dataframe tbody tr th:only-of-type {\n",
       "        vertical-align: middle;\n",
       "    }\n",
       "\n",
       "    .dataframe tbody tr th {\n",
       "        vertical-align: top;\n",
       "    }\n",
       "\n",
       "    .dataframe thead th {\n",
       "        text-align: right;\n",
       "    }\n",
       "</style>\n",
       "<table border=\"1\" class=\"dataframe\">\n",
       "  <thead>\n",
       "    <tr style=\"text-align: right;\">\n",
       "      <th></th>\n",
       "      <th>Image_path</th>\n",
       "      <th>ground_truth_label</th>\n",
       "      <th>Predicted</th>\n",
       "    </tr>\n",
       "  </thead>\n",
       "  <tbody>\n",
       "    <tr>\n",
       "      <th>0</th>\n",
       "      <td>nsfw_dataset_test/animated/(m=e-yaaGqaa)(mh=SW...</td>\n",
       "      <td>0</td>\n",
       "      <td>0</td>\n",
       "    </tr>\n",
       "    <tr>\n",
       "      <th>1</th>\n",
       "      <td>nsfw_dataset_test/animated/(m=e-yaaGqaa)(mh=-z...</td>\n",
       "      <td>0</td>\n",
       "      <td>0</td>\n",
       "    </tr>\n",
       "    <tr>\n",
       "      <th>2</th>\n",
       "      <td>nsfw_dataset_test/animated/(m=e-yaaGqaa)(mh=4Q...</td>\n",
       "      <td>0</td>\n",
       "      <td>0</td>\n",
       "    </tr>\n",
       "    <tr>\n",
       "      <th>3</th>\n",
       "      <td>nsfw_dataset_test/animated/ouwo5EE.jpg</td>\n",
       "      <td>0</td>\n",
       "      <td>0</td>\n",
       "    </tr>\n",
       "    <tr>\n",
       "      <th>4</th>\n",
       "      <td>nsfw_dataset_test/animated/(m=e-yaaGqaa)(mh=Sx...</td>\n",
       "      <td>0</td>\n",
       "      <td>0</td>\n",
       "    </tr>\n",
       "  </tbody>\n",
       "</table>\n",
       "</div>"
      ],
      "text/plain": [
       "                                          Image_path  ground_truth_label  \\\n",
       "0  nsfw_dataset_test/animated/(m=e-yaaGqaa)(mh=SW...                   0   \n",
       "1  nsfw_dataset_test/animated/(m=e-yaaGqaa)(mh=-z...                   0   \n",
       "2  nsfw_dataset_test/animated/(m=e-yaaGqaa)(mh=4Q...                   0   \n",
       "3             nsfw_dataset_test/animated/ouwo5EE.jpg                   0   \n",
       "4  nsfw_dataset_test/animated/(m=e-yaaGqaa)(mh=Sx...                   0   \n",
       "\n",
       "   Predicted  \n",
       "0          0  \n",
       "1          0  \n",
       "2          0  \n",
       "3          0  \n",
       "4          0  "
      ]
     },
     "execution_count": 6,
     "metadata": {},
     "output_type": "execute_result"
    }
   ],
   "source": [
    "df.head()"
   ]
  },
  {
   "cell_type": "code",
   "execution_count": 7,
   "metadata": {},
   "outputs": [],
   "source": [
    "comparison = df.iloc[:, [1,2]].values"
   ]
  },
  {
   "cell_type": "code",
   "execution_count": 8,
   "metadata": {},
   "outputs": [
    {
     "name": "stdout",
     "output_type": "stream",
     "text": [
      "[[1901    2   28    7   45]\n",
      " [  13  494  755   11  186]\n",
      " [ 137   38 3492    7  473]\n",
      " [ 155   23   53  806   55]\n",
      " [  10    5   27    0 2413]]\n"
     ]
    }
   ],
   "source": [
    "import numpy as np\n",
    "samples = comparison.shape[0]\n",
    "conf_matrix = np.zeros( (5, 5) , dtype=np.int32 )\n",
    "\n",
    "for i in range(samples):\n",
    "    conf_matrix[ int(comparison[i][0]) ][ int(comparison[i][1])  ] += 1\n",
    "\n",
    "print(conf_matrix)"
   ]
  },
  {
   "cell_type": "code",
   "execution_count": 9,
   "metadata": {},
   "outputs": [
    {
     "data": {
      "text/plain": [
       "<matplotlib.axes._subplots.AxesSubplot at 0x7f3b78123940>"
      ]
     },
     "execution_count": 9,
     "metadata": {},
     "output_type": "execute_result"
    },
    {
     "data": {
      "image/png": "[encoded data removed]",
      "text/plain": [
       "<Figure size 720x504 with 2 Axes>"
      ]
     },
     "metadata": {
      "needs_background": "light"
     },
     "output_type": "display_data"
    }
   ],
   "source": [
    "import seaborn as sn\n",
    "import pandas as pd\n",
    "import matplotlib.pyplot as plt\n",
    "%matplotlib inline\n",
    "df_cm = pd.DataFrame(conf_matrix, index = ['animated_ori' , 'nude_ori' , 'porn_ori' , 'safe for work_ori' , 'semi_nude_ori'],\n",
    "                  columns = ['animated_pred' , 'nude_pred' , 'porn_pred' , 'safe for work_pred' , 'semi_nude_pred'])\n",
    "plt.figure(figsize = (10,7))\n",
    "sn.heatmap(df_cm, annot=True)"
   ]
  },
  {
   "cell_type": "markdown",
   "metadata": {},
   "source": [
    "<h1> Cannot show wrong examples . You know it why"
   ]
  },
  {
   "cell_type": "code",
   "execution_count": 10,
   "metadata": {},
   "outputs": [],
   "source": [
    "wrong_examples = df[df['ground_truth_label'] != df['Predicted']].sample(n=9)"
   ]
  },
  {
   "cell_type": "code",
   "execution_count": 11,
   "metadata": {
    "scrolled": false
   },
   "outputs": [],
   "source": [
    "# from IPython.display import Image\n",
    "# from IPython.display import display\n",
    "\n",
    "\n",
    "\n",
    "# for i in range(9):\n",
    "#     x= Image(wrong_examples.iloc[i,0])\n",
    "#     display(x)\n",
    "\n",
    "# ;\n",
    "\n"
   ]
  },
  {
   "cell_type": "code",
   "execution_count": null,
   "metadata": {},
   "outputs": [],
   "source": []
  }
 ],
 "metadata": {
  "kernelspec": {
   "display_name": "Python 3",
   "language": "python",
   "name": "python3"
  },
  "language_info": {
   "codemirror_mode": {
    "name": "ipython",
    "version": 3
   },
   "file_extension": ".py",
   "mimetype": "text/x-python",
   "name": "python",
   "nbconvert_exporter": "python",
   "pygments_lexer": "ipython3",
   "version": "3.5.2"
  }
 },
 "nbformat": 4,
 "nbformat_minor": 2
}
