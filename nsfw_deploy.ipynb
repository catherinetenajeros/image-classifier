{
 "cells": [
  {
   "cell_type": "markdown",
   "metadata": {},
   "source": [
    "# Contains code for deploying the trained model"
   ]
  },
  {
   "cell_type": "code",
   "execution_count": 1,
   "metadata": {},
   "outputs": [],
   "source": [
    "import sagemaker\n",
    "from sagemaker import get_execution_role\n",
    "from sagemaker.amazon.amazon_estimator import get_image_uri\n",
    "\n",
    "role = get_execution_role()\n",
    "sess = sagemaker.Session()\n",
    "\n",
    "training_image = get_image_uri(sess.boto_region_name, 'image-classification', repo_version=\"latest\")\n"
   ]
  },
  {
   "cell_type": "code",
   "execution_count": 2,
   "metadata": {},
   "outputs": [],
   "source": [
    "# bucket = 'project-completion-udacity'\n",
    "# dataset_name = 'nsfw_dataset'\n",
    "\n",
    "\n",
    "# s3_output_location = 's3://project-completion-udacity/nsfw_dataset/output'\n",
    "\n",
    "# image_classifier = sagemaker.estimator.Estimator(\n",
    "#     training_image,\n",
    "#     role, \n",
    "#     train_instance_count = 1, \n",
    "#     train_instance_type = 'ml.p2.xlarge',\n",
    "#     output_path=s3_output_location,\n",
    "#     sagemaker_session=sess\n",
    "# )"
   ]
  },
  {
   "cell_type": "markdown",
   "metadata": {},
   "source": [
    "# the only change you need to make is to change job_name with the name of your own training job."
   ]
  },
  {
   "cell_type": "code",
   "execution_count": 3,
   "metadata": {},
   "outputs": [
    {
     "name": "stdout",
     "output_type": "stream",
     "text": [
      "DEMO-full-image-classification-model-2019-09-11-06-17-19\n",
      "s3://project-completion-udacity/nsfw_dataset/output/IC-nsfw-dataset-1568090782/output/model.tar.gz\n",
      "arn:aws:sagemaker:us-east-2:733184320490:model/demo-full-image-classification-model-2019-09-11-06-17-19\n"
     ]
    }
   ],
   "source": [
    "\n",
    "\n",
    "job_name = 'IC-nsfw-dataset-1568090782'\n",
    "import boto3\n",
    "from time import gmtime, strftime\n",
    "import time\n",
    "sage = boto3.Session().client(service_name='sagemaker') \n",
    "timestamp = time.strftime('-%Y-%m-%d-%H-%M-%S', time.gmtime())\n",
    "model_name=\"DEMO-full-image-classification-model\" + timestamp\n",
    "print(model_name)\n",
    "info = sage.describe_training_job(TrainingJobName=job_name)\n",
    "model_data = info['ModelArtifacts']['S3ModelArtifacts']\n",
    "print(model_data)\n",
    "\n",
    "hosting_image = get_image_uri(boto3.Session().region_name, 'image-classification')\n",
    "\n",
    "primary_container = {\n",
    "    'Image': hosting_image,\n",
    "    'ModelDataUrl': model_data,\n",
    "}\n",
    "\n",
    "create_model_response = sage.create_model(\n",
    "    ModelName = model_name,\n",
    "    ExecutionRoleArn = role,\n",
    "    PrimaryContainer = primary_container)\n",
    "\n",
    "print(create_model_response['ModelArn'])"
   ]
  },
  {
   "cell_type": "markdown",
   "metadata": {},
   "source": [
    "<h2> For endpoint configuration"
   ]
  },
  {
   "cell_type": "code",
   "execution_count": null,
   "metadata": {},
   "outputs": [],
   "source": [
    "# %%time\n",
    "# # Deploying a model to an endpoint takes a few minutes to complete\n",
    "\n",
    "# deployed_endpoint = image_classifier.deploy(\n",
    "#     initial_instance_count = 1,\n",
    "#     instance_type = 'ml.t2.medium'\n",
    "# )\n",
    "\n",
    "from time import gmtime, strftime\n",
    "\n",
    "timestamp = time.strftime('-%Y-%m-%d-%H-%M-%S', time.gmtime())\n",
    "endpoint_config_name = 'my-endpoint' + timestamp\n",
    "endpoint_config_response = sage.create_endpoint_config(\n",
    "    EndpointConfigName = endpoint_config_name,\n",
    "    ProductionVariants=[{\n",
    "        'InstanceType':'ml.t2.medium',\n",
    "        'InitialInstanceCount':1,\n",
    "        'ModelName':model_name,\n",
    "        'VariantName':'AllTraffic'}])\n",
    "\n",
    "print('Endpoint configuration name: {}'.format(endpoint_config_name))\n",
    "print('Endpoint configuration arn:  {}'.format(endpoint_config_response['EndpointConfigArn']))"
   ]
  },
  {
   "cell_type": "markdown",
   "metadata": {},
   "source": [
    "## code for lauanching the endpoint."
   ]
  },
  {
   "cell_type": "code",
   "execution_count": 5,
   "metadata": {},
   "outputs": [
    {
     "name": "stdout",
     "output_type": "stream",
     "text": [
      "Endpoint name: myprojectcapstone\n",
      "EndpointArn = arn:aws:sagemaker:us-east-2:733184320490:endpoint/myprojectcapstone\n"
     ]
    }
   ],
   "source": [
    "endpoint_name = 'myprojectcapstone'\n",
    "print('Endpoint name: {}'.format('myprojectcapstone'))\n",
    "\n",
    "import sagemaker as sm\n",
    "\n",
    "endpoint_params = {\n",
    "    'EndpointName': endpoint_name,\n",
    "    'EndpointConfigName': endpoint_config_name,\n",
    "}\n",
    "endpoint_response = sess.sagemaker_client.create_endpoint(**endpoint_params)\n",
    "print('EndpointArn = {}'.format(endpoint_response['EndpointArn']))"
   ]
  },
  {
   "cell_type": "code",
   "execution_count": 6,
   "metadata": {},
   "outputs": [
    {
     "name": "stdout",
     "output_type": "stream",
     "text": [
      "------------------------------------------------------------------------------------------------------------!"
     ]
    }
   ],
   "source": [
    "endpoint_dec = sess.wait_for_endpoint(endpoint_name)"
   ]
  },
  {
   "cell_type": "markdown",
   "metadata": {},
   "source": [
    "## Testing the deployed endpoint"
   ]
  },
  {
   "cell_type": "code",
   "execution_count": 7,
   "metadata": {},
   "outputs": [],
   "source": [
    "import json\n",
    "import numpy as np\n",
    "import os\n",
    "\n",
    "def classify_deployed(file_name, classes , endpoint_name):\n",
    "    payload = None\n",
    "    with open(file_name, 'rb') as f:\n",
    "        payload = f.read()\n",
    "        payload = bytearray(payload)\n",
    "\n",
    "    response = sess.sagemaker_runtime_client.invoke_endpoint(\n",
    "                                                EndpointName = endpoint_name,\n",
    "                                                ContentType = 'application/x-image',\n",
    "                                                Body = payload)\n",
    "        \n",
    "    #print(response)\n",
    "    result = response['Body'].read()\n",
    "    result = json.loads(result)\n",
    "    print(result)\n",
    "    best_prob_index = np.argmax( np.array( result ) )\n",
    "    print(best_prob_index)\n",
    "    return (classes[best_prob_index], result[best_prob_index])"
   ]
  },
  {
   "cell_type": "code",
   "execution_count": 8,
   "metadata": {},
   "outputs": [
    {
     "name": "stdout",
     "output_type": "stream",
     "text": [
      "[0.0002461728290654719, 0.0017670468660071492, 0.00032288278453052044, 0.9976606369018555, 3.218596020815312e-06]\n",
      "3\n",
      "safe_for_work 0.9976606369018555\n"
     ]
    }
   ],
   "source": [
    "file_name = 'flowes/test/daisy/10555826524_423eb8bf71_n.jpg'\n",
    "classes = ['animated' , 'nude' ,'porn' , 'safe_for_work' , 'semi_nude']\n",
    "\n",
    "class_predicted , class_score = classify_deployed(file_name, classes , endpoint_name)\n",
    "print(class_predicted , class_score)\n"
   ]
  },
  {
   "cell_type": "markdown",
   "metadata": {},
   "source": [
    "## Deleting the endpoint."
   ]
  },
  {
   "cell_type": "code",
   "execution_count": 9,
   "metadata": {},
   "outputs": [
    {
     "data": {
      "text/plain": [
       "{'ResponseMetadata': {'RequestId': '75b459e9-b20b-466b-aab3-17afe9b8fa29',\n",
       "  'HTTPStatusCode': 200,\n",
       "  'HTTPHeaders': {'x-amzn-requestid': '75b459e9-b20b-466b-aab3-17afe9b8fa29',\n",
       "   'content-type': 'application/x-amz-json-1.1',\n",
       "   'content-length': '0',\n",
       "   'date': 'Wed, 11 Sep 2019 06:30:04 GMT'},\n",
       "  'RetryAttempts': 0}}"
      ]
     },
     "execution_count": 9,
     "metadata": {},
     "output_type": "execute_result"
    }
   ],
   "source": [
    "sess.sagemaker_client.delete_endpoint(EndpointName = endpoint_name)"
   ]
  },
  {
   "cell_type": "code",
   "execution_count": null,
   "metadata": {},
   "outputs": [],
   "source": []
  }
 ],
 "metadata": {
  "kernelspec": {
   "display_name": "Python 3",
   "language": "python",
   "name": "python3"
  },
  "language_info": {
   "codemirror_mode": {
    "name": "ipython",
    "version": 3
   },
   "file_extension": ".py",
   "mimetype": "text/x-python",
   "name": "python",
   "nbconvert_exporter": "python",
   "pygments_lexer": "ipython3",
   "version": "3.5.2"
  }
 },
 "nbformat": 4,
 "nbformat_minor": 2
}
